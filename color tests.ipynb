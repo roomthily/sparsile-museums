{
 "cells": [
  {
   "cell_type": "code",
   "execution_count": 43,
   "metadata": {
    "collapsed": true
   },
   "outputs": [],
   "source": [
    "from colormath.color_conversions import convert_color\n",
    "from colormath.color_objects import sRGBColor\n",
    "\n",
    "from collections import defaultdict\n",
    "import statistics\n",
    "import random\n",
    "\n",
    "from IPython.display import SVG"
   ]
  },
  {
   "cell_type": "code",
   "execution_count": 44,
   "metadata": {
    "collapsed": true
   },
   "outputs": [],
   "source": [
    "dd = defaultdict(list)\n",
    "for j in ['neg', 'neu', 'pos', 'com']:\n",
    "    for i in random.sample(range(0, 100), 10):\n",
    "        dd[j].append(i / 100.0)"
   ]
  },
  {
   "cell_type": "code",
   "execution_count": 45,
   "metadata": {
    "collapsed": true
   },
   "outputs": [],
   "source": [
    "means = {k: statistics.mean(v) for k, v in dd.items()}"
   ]
  },
  {
   "cell_type": "code",
   "execution_count": 46,
   "metadata": {
    "collapsed": false
   },
   "outputs": [
    {
     "data": {
      "text/plain": [
       "sRGBColor(rgb_r=0.621,rgb_g=0.644,rgb_b=0.465)"
      ]
     },
     "execution_count": 46,
     "metadata": {},
     "output_type": "execute_result"
    }
   ],
   "source": [
    "rgb = sRGBColor(\n",
    "    means['neg'],\n",
    "    means['neu'],\n",
    "    means['pos'],\n",
    "    False\n",
    ")\n",
    "rgb"
   ]
  },
  {
   "cell_type": "code",
   "execution_count": 47,
   "metadata": {
    "collapsed": false
   },
   "outputs": [
    {
     "data": {
      "text/plain": [
       "'#9ea477'"
      ]
     },
     "execution_count": 47,
     "metadata": {},
     "output_type": "execute_result"
    }
   ],
   "source": [
    "rgb.get_rgb_hex()"
   ]
  },
  {
   "cell_type": "code",
   "execution_count": 48,
   "metadata": {
    "collapsed": true
   },
   "outputs": [],
   "source": [
    "svg_template = \"\"\"<?xml version=\"1.0\" standalone=\"no\"?>\n",
    "<!DOCTYPE svg PUBLIC \"-//W3C//DTD SVG 1.1//EN\" \n",
    "  \"http://www.w3.org/Graphics/SVG/1.1/DTD/svg11.dtd\">\n",
    "<svg width=\"12cm\" height=\"4cm\" viewBox=\"0 0 1200 400\"\n",
    "     xmlns=\"http://www.w3.org/2000/svg\" version=\"1.1\">\n",
    "  <desc>%(hex_value)s</desc>\n",
    "  <defs>\n",
    "    <style type=\"text/css\"><![CDATA[\n",
    "       #the_circle {\n",
    "         fill: %(hex_value)s;\n",
    "       }\n",
    "    ]]></style>\n",
    "  </defs>\n",
    "\n",
    "  <circle cx=\"600\" cy=\"200\" r=\"100\"\n",
    "        id=\"the_circle\"  />\n",
    "</svg>\n",
    "\"\"\""
   ]
  },
  {
   "cell_type": "code",
   "execution_count": 49,
   "metadata": {
    "collapsed": false
   },
   "outputs": [
    {
     "data": {
      "image/svg+xml": [
       "<svg height=\"4cm\" version=\"1.1\" viewBox=\"0 0 1200 400\" width=\"12cm\" xmlns=\"http://www.w3.org/2000/svg\">\n",
       "  <desc>#9ea477</desc>\n",
       "  <defs>\n",
       "    <style type=\"text/css\"><![CDATA[\n",
       "       #the_circle {\n",
       "         fill: #9ea477;\n",
       "       }\n",
       "    ]]></style>\n",
       "  </defs>\n",
       "\n",
       "  <circle cx=\"600\" cy=\"200\" id=\"the_circle\" r=\"100\"/>\n",
       "</svg>"
      ],
      "text/plain": [
       "<IPython.core.display.SVG object>"
      ]
     },
     "execution_count": 49,
     "metadata": {},
     "output_type": "execute_result"
    }
   ],
   "source": [
    "svg = svg_template % {'hex_value': rgb.get_rgb_hex()}\n",
    "\n",
    "SVG(svg)"
   ]
  },
  {
   "cell_type": "code",
   "execution_count": 57,
   "metadata": {
    "collapsed": true
   },
   "outputs": [],
   "source": [
    "# a set of outputs from the vader sentiment docs\n",
    "sentiments = [\n",
    "    {'neg': 0.0, 'neu': 0.254, 'pos': 0.746, 'compound': 0.8316},\n",
    "    {'neg': 0.0, 'neu': 0.248, 'pos': 0.752, 'compound': 0.8439},\n",
    "    {'neg': 0.0, 'neu': 0.294, 'pos': 0.706, 'compound': 0.9469},\n",
    "    {'neg': 0.0, 'neu': 0.508, 'pos': 0.492, 'compound': 0.4404},\n",
    "    {'neg': 0.327, 'neu': 0.579, 'pos': 0.094, 'compound': -0.7042},\n",
    "    {'neg': 0.791, 'neu': 0.209, 'pos': 0.0, 'compound': -0.8211},\n",
    "    {'neg': 0.0, 'neu': 0.637, 'pos': 0.363, 'compound': 0.431},\n",
    "    {'neg': 0.195, 'neu': 0.531, 'pos': 0.274, 'compound': 0.2228}\n",
    "]\n",
    "\n",
    "custom_template = \"\"\"<?xml version=\"1.0\" standalone=\"no\"?>\n",
    "<!DOCTYPE svg PUBLIC \"-//W3C//DTD SVG 1.1//EN\" \n",
    "  \"http://www.w3.org/Graphics/SVG/1.1/DTD/svg11.dtd\">\n",
    "<svg width=\"12cm\" height=\"4cm\" viewBox=\"0 0 1200 400\"\n",
    "     xmlns=\"http://www.w3.org/2000/svg\" version=\"1.1\">\n",
    "  <desc>%(hex_name)s</desc>\n",
    "  <defs>\n",
    "    <style type=\"text/css\"><![CDATA[\n",
    "       #%(hex_name)s {\n",
    "         fill: %(hex_value)s;\n",
    "       }\n",
    "    ]]></style>\n",
    "  </defs>\n",
    "\n",
    "  <circle cx=\"600\" cy=\"200\" r=\"100\"\n",
    "        id=\"%(hex_name)s\"  />\n",
    "</svg>\n",
    "\"\"\""
   ]
  },
  {
   "cell_type": "code",
   "execution_count": 70,
   "metadata": {
    "collapsed": false
   },
   "outputs": [
    {
     "name": "stdout",
     "output_type": "stream",
     "text": [
      "#00be41\n"
     ]
    },
    {
     "data": {
      "image/svg+xml": [
       "<svg height=\"4cm\" version=\"1.1\" viewBox=\"0 0 1200 400\" width=\"12cm\" xmlns=\"http://www.w3.org/2000/svg\">\n",
       "  <desc>m00be41</desc>\n",
       "  <defs>\n",
       "    <style type=\"text/css\"><![CDATA[\n",
       "       #m00be41 {\n",
       "         fill: #00be41;\n",
       "       }\n",
       "    ]]></style>\n",
       "  </defs>\n",
       "\n",
       "  <circle cx=\"600\" cy=\"200\" id=\"m00be41\" r=\"100\"/>\n",
       "</svg>"
      ],
      "text/plain": [
       "<IPython.core.display.SVG object>"
      ]
     },
     "execution_count": 70,
     "metadata": {},
     "output_type": "execute_result"
    }
   ],
   "source": [
    "rgb = sRGBColor(\n",
    "    sentiments[0]['neg'],\n",
    "    sentiments[0]['pos'],\n",
    "    sentiments[0]['neu'],\n",
    "    False\n",
    ")\n",
    "the_hex = rgb.get_rgb_hex()\n",
    "print (the_hex)\n",
    "svg = custom_template % {'hex_name': the_hex.replace('#', 'm'), 'hex_value': the_hex}\n",
    "SVG(svg)"
   ]
  },
  {
   "cell_type": "code",
   "execution_count": 63,
   "metadata": {
    "collapsed": false
   },
   "outputs": [
    {
     "name": "stdout",
     "output_type": "stream",
     "text": [
      "#004bb4\n"
     ]
    },
    {
     "data": {
      "image/svg+xml": [
       "<svg height=\"4cm\" version=\"1.1\" viewBox=\"0 0 1200 400\" width=\"12cm\" xmlns=\"http://www.w3.org/2000/svg\">\n",
       "  <desc>m004bb4</desc>\n",
       "  <defs>\n",
       "    <style type=\"text/css\"><![CDATA[\n",
       "       #m004bb4 {\n",
       "         fill: #004bb4;\n",
       "       }\n",
       "    ]]></style>\n",
       "  </defs>\n",
       "\n",
       "  <circle cx=\"600\" cy=\"200\" id=\"m004bb4\" r=\"100\"/>\n",
       "</svg>"
      ],
      "text/plain": [
       "<IPython.core.display.SVG object>"
      ]
     },
     "execution_count": 63,
     "metadata": {},
     "output_type": "execute_result"
    }
   ],
   "source": [
    "rgb = sRGBColor(\n",
    "    sentiments[2]['neg'],\n",
    "    sentiments[2]['neu'],\n",
    "    sentiments[2]['pos'],\n",
    "    False\n",
    ")\n",
    "the_hex = rgb.get_rgb_hex()\n",
    "print (the_hex)\n",
    "svg = custom_template % {'hex_name': the_hex.replace('#', 'm'), 'hex_value': the_hex}\n",
    "SVG(svg)"
   ]
  },
  {
   "cell_type": "code",
   "execution_count": 71,
   "metadata": {
    "collapsed": false
   },
   "outputs": [
    {
     "name": "stdout",
     "output_type": "stream",
     "text": [
      "#531894\n"
     ]
    },
    {
     "data": {
      "image/svg+xml": [
       "<svg height=\"4cm\" version=\"1.1\" viewBox=\"0 0 1200 400\" width=\"12cm\" xmlns=\"http://www.w3.org/2000/svg\">\n",
       "  <desc>m531894</desc>\n",
       "  <defs>\n",
       "    <style type=\"text/css\"><![CDATA[\n",
       "       #m531894 {\n",
       "         fill: #531894;\n",
       "       }\n",
       "    ]]></style>\n",
       "  </defs>\n",
       "\n",
       "  <circle cx=\"600\" cy=\"200\" id=\"m531894\" r=\"100\"/>\n",
       "</svg>"
      ],
      "text/plain": [
       "<IPython.core.display.SVG object>"
      ]
     },
     "execution_count": 71,
     "metadata": {},
     "output_type": "execute_result"
    }
   ],
   "source": [
    "rgb = sRGBColor(\n",
    "    sentiments[4]['neg'],\n",
    "    sentiments[4]['pos'],\n",
    "    sentiments[4]['neu'],\n",
    "    False\n",
    ")\n",
    "the_hex = rgb.get_rgb_hex()\n",
    "print (the_hex)\n",
    "svg = custom_template % {'hex_name': the_hex.replace('#', 'm'), 'hex_value': the_hex}\n",
    "SVG(svg)"
   ]
  },
  {
   "cell_type": "code",
   "execution_count": null,
   "metadata": {
    "collapsed": true
   },
   "outputs": [],
   "source": []
  }
 ],
 "metadata": {
  "kernelspec": {
   "display_name": "Python 3",
   "language": "python",
   "name": "python3"
  },
  "language_info": {
   "codemirror_mode": {
    "name": "ipython",
    "version": 3
   },
   "file_extension": ".py",
   "mimetype": "text/x-python",
   "name": "python",
   "nbconvert_exporter": "python",
   "pygments_lexer": "ipython3",
   "version": "3.5.1"
  }
 },
 "nbformat": 4,
 "nbformat_minor": 0
}
